{
 "cells": [
  {
   "cell_type": "markdown",
   "id": "efe38574-11a4-434f-9539-ed8ffd91aa81",
   "metadata": {},
   "source": [
    "# Recomendção de Produtos"
   ]
  },
  {
   "cell_type": "markdown",
   "id": "d263ccb7-c506-419c-8084-7e7988570d7a",
   "metadata": {},
   "source": [
    "Input: Id Produto, Id Cliente \n",
    "\n",
    "Output: Lista de Produtos a recomendar"
   ]
  },
  {
   "cell_type": "markdown",
   "id": "42ee9dc9-11b6-4ea1-802d-89875cbc3066",
   "metadata": {},
   "source": [
    "Partes a usar:\n",
    "    \n",
    "    ID cliente: Morada, Lista de Produtos Vistos\n",
    "    ID Produto: ID Categoria, Num Visualizações, Pontuação, Num Pontuações\n",
    "    \n",
    "    ID Produto -- ID Categoria : Nome, ID Categoria Acima, Nivel\n",
    "    ID Cliente -- Morada: Código-Postal (ou Rua)\n",
    "    ID CLiente -- Lista de Produtos Vistos -- id Produto:  ID Categoria, Num Visualizações, Pontuação, Num Pontuações, Numero de Vezes"
   ]
  },
  {
   "cell_type": "code",
   "execution_count": 3,
   "id": "29ad3f5a-e8f7-45de-a62a-e1b5dd078e59",
   "metadata": {},
   "outputs": [],
   "source": [
    "import math\n",
    "import pandas as pd"
   ]
  },
  {
   "cell_type": "code",
   "execution_count": null,
   "id": "c23def30-1bd8-4df4-9f7d-abb7804fce87",
   "metadata": {},
   "outputs": [],
   "source": [
    "df = pd.read_csv('ficheiro')"
   ]
  },
  {
   "cell_type": "code",
   "execution_count": null,
   "id": "2061e01a-32db-46e3-8514-e96760103364",
   "metadata": {},
   "outputs": [],
   "source": [
    "def getMoradaEProdutos(idCliente):\n",
    "    return list(df[df['idCliente']== idCliente]['morada']), list(df[df['idCliente']== idCliente]['listaP'])"
   ]
  },
  {
   "cell_type": "code",
   "execution_count": null,
   "id": "0b859202-d272-49d1-b1f6-af0af71799bf",
   "metadata": {},
   "outputs": [],
   "source": [
    "def getIDCategoriaNumVisPontuacaoNumPontuacoes (idProduto):\n",
    "    return list(df[df['idProduto']== idProduto]['idCategoria']) , list(df[df['idProduto']== idProduto]['NumVisualizacoes']) , list(df[df['idProduto']== idProduto]['Pontuacao']) ,\n",
    "        list(df[df['idProduto']== idProduto]['NumPontuacoes'])"
   ]
  },
  {
   "cell_type": "code",
   "execution_count": 2,
   "id": "fea54030-962b-40cf-9677-7b83ddbde64e",
   "metadata": {},
   "outputs": [
    {
     "ename": "SyntaxError",
     "evalue": "invalid syntax (1102136943.py, line 1)",
     "output_type": "error",
     "traceback": [
      "\u001b[0;36m  File \u001b[0;32m\"/tmp/ipykernel_2483/1102136943.py\"\u001b[0;36m, line \u001b[0;32m1\u001b[0m\n\u001b[0;31m    def\u001b[0m\n\u001b[0m       ^\u001b[0m\n\u001b[0;31mSyntaxError\u001b[0m\u001b[0;31m:\u001b[0m invalid syntax\n"
     ]
    }
   ],
   "source": [
    "def getIDCategoriaAcimaNivel(idCategoria):\n",
    "    return list(df[df['idCategoria']== idCategoria]['id']) , list(df[df['idCategoria']== idCategoria]['idCategoriaAcima']) , list(df[df['idCategoria']== idCategoria]['Nivel'])"
   ]
  },
  {
   "cell_type": "code",
   "execution_count": null,
   "id": "c1ca47d3-20a7-43c1-9c5a-fd89dea68295",
   "metadata": {},
   "outputs": [],
   "source": [
    "def getCodigoPostal(morada):\n",
    "    return list(df[df['morada']== morada]['cp'])"
   ]
  },
  {
   "cell_type": "code",
   "execution_count": null,
   "id": "5e1b2865-6069-4985-ad6f-6bf36bcdc37a",
   "metadata": {},
   "outputs": [],
   "source": [
    "def getIDCatNumVisPontuacaoNumPontuacoesNumVezes(listaPVistos):\n",
    "    listaIDs = [i[0] for i in listaPVistos]\n",
    "    for idProd in listaIDs:\n",
    "        num_vezes= listaIDs.count(idProd)\n",
    "        return list(df[df['idProduto']== idProd]['idCategoria']) , list(df[df['idProduto']== idProd]['NumVisualizacoes']) , list(df[df['idProduto']== idProd]['Pontuacao']) , \n",
    "            list(df[df['idProduto']== idProd]['NumPontuacoes']) , num_vezes"
   ]
  },
  {
   "cell_type": "code",
   "execution_count": null,
   "id": "c65561b4-e91e-42ec-9d7f-6a16ce509292",
   "metadata": {},
   "outputs": [],
   "source": [
    "def getProduto(dfprodutos,idCat):\n",
    "    return list(df[df['idCat']== idCat]['id'])"
   ]
  },
  {
   "cell_type": "code",
   "execution_count": 1,
   "id": "8bfb4b53-321c-4eea-9a20-4ef659822a73",
   "metadata": {},
   "outputs": [],
   "source": [
    "def calculoRecomenda(idProduto, idCliente):\n",
    "    IDCat, NumVis, Pontuacao, NumPontuacoes = getIDCategoriaNumVisPontuacaoNumPontuacoes(idProduto)\n",
    "    saldoProd = (sum(NumPontuacoes) * sum(Pontuacao)) / sum(NumVis)\n",
    "    ID, IDCatAcima, Nivel = getIDCategoriaAcimaNivel(IDCat[0])\n",
    "    listaIDProd = getProduto(dfprodutos, ID)\n",
    "    morada, prodVistos = getMoradaEProdutos(idCliente)\n",
    "    #cp = getCodigoPostal(morada[0])\n",
    "    listaIDCats, listaNumVis, listaPontuacoes, listaNumPontuacoes, num_vezes = getIDCatNumVisPontuacaoNumPontuacoesNumVezes(prodVistos)\n",
    "    \n",
    "    listaProdSaldo = []\n",
    "    for idProd in listaIDProd:\n",
    "        saldo = 1\n",
    "        idCatTemp, NumVisTemp, PontuacaoTemp, NumPontuacoesTemp = getIDCategoriaNumVisPontuacaoNumPontuacoes(idProd)\n",
    "        if idCatTemp[0] == IDCat[0]:\n",
    "            saldo *= 2\n",
    "        elif idCatTemp[0] == IDCatAcima[0]:\n",
    "            saldo *= 1.5\n",
    "        elif idCatTemp[0] in listaIDCats:\n",
    "            saldo *= 1.2\n",
    "        saldoProdTemp = (sum(NumPontuacoesTemp) * sum(PontuacaoTemp)) / sum(NumVisTemp)\n",
    "        if math.abs(saldoProdTemp - SaldoProd) <= VALOR_TEMP :\n",
    "            saldo *= 2\n",
    "        if idProd in prodVistos :\n",
    "            saldo *= 5\n",
    "        listaProdSaldo.append((idProd, saldo*2))\n",
    "    \n",
    "    listaIDProdCatAcima = getProduto(dfprodutos, IDCatAcima)\n",
    "    for idProd in listaIDProd:\n",
    "        saldo = 1\n",
    "        idCatTemp, NumVisTemp, PontuacaoTemp, NumPontuacoesTemp = getIDCategoriaNumVisPontuacaoNumPontuacoes(idProd)\n",
    "        if idCatTemp[0] == IDCat[0]:\n",
    "            saldo *= 2\n",
    "        elif idCatTemp[0] == IDCatAcima[0]:\n",
    "            saldo *= 1.5\n",
    "        elif idCatTemp[0] in listaIDCats:\n",
    "            saldo *= 1.2\n",
    "        saldoProdTemp = (sum(NumPontuacoesTemp) * sum(PontuacaoTemp)) / sum(NumVisTemp)\n",
    "        if math.abs(saldoProdTemp - SaldoProd) <= VALOR_TEMP :\n",
    "            saldo *= 2\n",
    "        if idProd in prodVistos :\n",
    "            saldo *= 5\n",
    "        listaProdSaldo.append((idProd, saldo*1.5))\n",
    "    \n",
    "    return listaProdSaldo\n",
    "#confirmar com o pessoal de AI se querem usar mais coisas para as contas"
   ]
  },
  {
   "cell_type": "code",
   "execution_count": null,
   "id": "36ff6d47-de2e-490c-bf29-bba6ff610465",
   "metadata": {},
   "outputs": [],
   "source": [
    "#função que vai buscar info ao mongodb e retorna um df com a informação toda que queremos"
   ]
  }
 ],
 "metadata": {
  "environment": {
   "kernel": "python3",
   "name": "common-cpu.m86",
   "type": "gcloud",
   "uri": "gcr.io/deeplearning-platform-release/base-cpu:m86"
  },
  "kernelspec": {
   "display_name": "Python 3",
   "language": "python",
   "name": "python3"
  },
  "language_info": {
   "codemirror_mode": {
    "name": "ipython",
    "version": 3
   },
   "file_extension": ".py",
   "mimetype": "text/x-python",
   "name": "python",
   "nbconvert_exporter": "python",
   "pygments_lexer": "ipython3",
   "version": "3.8.10"
  }
 },
 "nbformat": 4,
 "nbformat_minor": 5
}
