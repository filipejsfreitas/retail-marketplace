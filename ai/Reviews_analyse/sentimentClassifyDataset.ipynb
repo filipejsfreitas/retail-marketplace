{
 "cells": [
  {
   "cell_type": "markdown",
   "id": "f423a81d-e444-45c6-b352-be0ce7791902",
   "metadata": {},
   "source": [
    "# Analyze Sentiment in Product Reviews"
   ]
  },
  {
   "cell_type": "code",
   "execution_count": 1,
   "id": "28d543a4",
   "metadata": {},
   "outputs": [],
   "source": [
    "#dataset amazonProducts: https://data.world/datafiniti/amazon-and-best-buy-electronics"
   ]
  },
  {
   "cell_type": "code",
   "execution_count": 2,
   "id": "f2ab908f-c587-4283-b41f-253fb1d53cb6",
   "metadata": {},
   "outputs": [
    {
     "name": "stderr",
     "output_type": "stream",
     "text": [
      "'pip' is not recognized as an internal or external command,\n",
      "operable program or batch file.\n",
      "'pip' is not recognized as an internal or external command,\n",
      "operable program or batch file.\n",
      "'pip' is not recognized as an internal or external command,\n",
      "operable program or batch file.\n",
      "Python n�o encontrado; executar sem argumentos para instalar a partir da Microsoft Store ou desativar este atalho em Defini��es > Gerir Aliases de Execu��o da Aplica��o.\n"
     ]
    }
   ],
   "source": [
    "## Instalar bibliotecas necessarias\n",
    "\n",
    "!pip install NRCLex\n",
    "!pip install -U spacy\n",
    "!pip install NRCLex\n",
    "!python3 -m spacy download en_core_web_md"
   ]
  },
  {
   "cell_type": "code",
   "execution_count": 3,
   "id": "5b841d3a-56da-4641-9123-78e70fbcfca3",
   "metadata": {},
   "outputs": [
    {
     "name": "stderr",
     "output_type": "stream",
     "text": [
      "[nltk_data] Downloading package punkt to\n",
      "[nltk_data]     C:\\Users\\maria\\AppData\\Roaming\\nltk_data...\n",
      "[nltk_data]   Package punkt is already up-to-date!\n"
     ]
    }
   ],
   "source": [
    "## Imports necessarios\n",
    "\n",
    "import pandas as pd \n",
    "from nrclex import NRCLex\n",
    "import nltk\n",
    "nltk.download('punkt')\n",
    "\n",
    "import spacy"
   ]
  },
  {
   "cell_type": "code",
   "execution_count": 36,
   "id": "08109f29-2328-45db-8582-06751a5855a4",
   "metadata": {},
   "outputs": [],
   "source": [
    "## Carregar dataset\n",
    "data = pd.read_csv('100_reviews_to_test.csv')\n"
   ]
  },
  {
   "cell_type": "code",
   "execution_count": 37,
   "id": "bfd8d7ef",
   "metadata": {},
   "outputs": [
    {
     "data": {
      "text/html": [
       "<div>\n",
       "<style scoped>\n",
       "    .dataframe tbody tr th:only-of-type {\n",
       "        vertical-align: middle;\n",
       "    }\n",
       "\n",
       "    .dataframe tbody tr th {\n",
       "        vertical-align: top;\n",
       "    }\n",
       "\n",
       "    .dataframe thead th {\n",
       "        text-align: right;\n",
       "    }\n",
       "</style>\n",
       "<table border=\"1\" class=\"dataframe\">\n",
       "  <thead>\n",
       "    <tr style=\"text-align: right;\">\n",
       "      <th></th>\n",
       "      <th>Unnamed: 0</th>\n",
       "      <th>review_text</th>\n",
       "      <th>classification_NRC</th>\n",
       "    </tr>\n",
       "  </thead>\n",
       "  <tbody>\n",
       "    <tr>\n",
       "      <th>0</th>\n",
       "      <td>100</td>\n",
       "      <td>\\n  Very nice product with promt delivary the ...</td>\n",
       "      <td>positive</td>\n",
       "    </tr>\n",
       "    <tr>\n",
       "      <th>1</th>\n",
       "      <td>101</td>\n",
       "      <td>\\n  Ordered on 26th Sep afternoon and Amazon d...</td>\n",
       "      <td>positive</td>\n",
       "    </tr>\n",
       "    <tr>\n",
       "      <th>2</th>\n",
       "      <td>102</td>\n",
       "      <td>\\n  Fingerprint Reader is very fast when compa...</td>\n",
       "      <td>positive</td>\n",
       "    </tr>\n",
       "    <tr>\n",
       "      <th>3</th>\n",
       "      <td>103</td>\n",
       "      <td>\\n  BEST FIRST 5G PHONE UNDER 30000 Rs/- MADE ...</td>\n",
       "      <td>fear</td>\n",
       "    </tr>\n",
       "    <tr>\n",
       "      <th>4</th>\n",
       "      <td>104</td>\n",
       "      <td>\\n  Overall perfomance of the phone is amazing...</td>\n",
       "      <td>positive</td>\n",
       "    </tr>\n",
       "  </tbody>\n",
       "</table>\n",
       "</div>"
      ],
      "text/plain": [
       "   Unnamed: 0                                        review_text  \\\n",
       "0         100  \\n  Very nice product with promt delivary the ...   \n",
       "1         101  \\n  Ordered on 26th Sep afternoon and Amazon d...   \n",
       "2         102  \\n  Fingerprint Reader is very fast when compa...   \n",
       "3         103  \\n  BEST FIRST 5G PHONE UNDER 30000 Rs/- MADE ...   \n",
       "4         104  \\n  Overall perfomance of the phone is amazing...   \n",
       "\n",
       "  classification_NRC  \n",
       "0           positive  \n",
       "1           positive  \n",
       "2           positive  \n",
       "3               fear  \n",
       "4           positive  "
      ]
     },
     "execution_count": 37,
     "metadata": {},
     "output_type": "execute_result"
    }
   ],
   "source": [
    "data.head()"
   ]
  },
  {
   "cell_type": "code",
   "execution_count": 38,
   "id": "d607b6ac-1c67-47d4-8a72-9c635752e848",
   "metadata": {},
   "outputs": [],
   "source": [
    "data.drop('Unnamed: 0', inplace=True, axis=1) \n",
    "\n",
    "\n",
    "\n",
    "\n"
   ]
  },
  {
   "cell_type": "code",
   "execution_count": 39,
   "id": "88a51e04-3185-4d83-97a9-13c3d1809c89",
   "metadata": {},
   "outputs": [
    {
     "data": {
      "text/html": [
       "<div>\n",
       "<style scoped>\n",
       "    .dataframe tbody tr th:only-of-type {\n",
       "        vertical-align: middle;\n",
       "    }\n",
       "\n",
       "    .dataframe tbody tr th {\n",
       "        vertical-align: top;\n",
       "    }\n",
       "\n",
       "    .dataframe thead th {\n",
       "        text-align: right;\n",
       "    }\n",
       "</style>\n",
       "<table border=\"1\" class=\"dataframe\">\n",
       "  <thead>\n",
       "    <tr style=\"text-align: right;\">\n",
       "      <th></th>\n",
       "      <th>review_text</th>\n",
       "      <th>classification_NRC</th>\n",
       "    </tr>\n",
       "  </thead>\n",
       "  <tbody>\n",
       "    <tr>\n",
       "      <th>0</th>\n",
       "      <td>\\n  Very nice product with promt delivary the ...</td>\n",
       "      <td>positive</td>\n",
       "    </tr>\n",
       "    <tr>\n",
       "      <th>1</th>\n",
       "      <td>\\n  Ordered on 26th Sep afternoon and Amazon d...</td>\n",
       "      <td>positive</td>\n",
       "    </tr>\n",
       "    <tr>\n",
       "      <th>2</th>\n",
       "      <td>\\n  Fingerprint Reader is very fast when compa...</td>\n",
       "      <td>positive</td>\n",
       "    </tr>\n",
       "    <tr>\n",
       "      <th>3</th>\n",
       "      <td>\\n  BEST FIRST 5G PHONE UNDER 30000 Rs/- MADE ...</td>\n",
       "      <td>fear</td>\n",
       "    </tr>\n",
       "    <tr>\n",
       "      <th>4</th>\n",
       "      <td>\\n  Overall perfomance of the phone is amazing...</td>\n",
       "      <td>positive</td>\n",
       "    </tr>\n",
       "  </tbody>\n",
       "</table>\n",
       "</div>"
      ],
      "text/plain": [
       "                                         review_text classification_NRC\n",
       "0  \\n  Very nice product with promt delivary the ...           positive\n",
       "1  \\n  Ordered on 26th Sep afternoon and Amazon d...           positive\n",
       "2  \\n  Fingerprint Reader is very fast when compa...           positive\n",
       "3  \\n  BEST FIRST 5G PHONE UNDER 30000 Rs/- MADE ...               fear\n",
       "4  \\n  Overall perfomance of the phone is amazing...           positive"
      ]
     },
     "execution_count": 39,
     "metadata": {},
     "output_type": "execute_result"
    }
   ],
   "source": [
    "\n",
    "data.head()"
   ]
  },
  {
   "cell_type": "markdown",
   "id": "eb2a118f-60e4-478d-a1e3-f397700f0fb2",
   "metadata": {},
   "source": [
    "### Testar o NRCLex"
   ]
  },
  {
   "cell_type": "code",
   "execution_count": 40,
   "id": "575c9074-5e8d-4bdf-8468-59b5b36bb2c1",
   "metadata": {},
   "outputs": [
    {
     "name": "stdout",
     "output_type": "stream",
     "text": [
      "[('fear', 0.2), ('anger', 0.2), ('negative', 0.2), ('sadness', 0.2), ('disgust', 0.2)]\n"
     ]
    }
   ],
   "source": [
    "review_1 = NRCLex('the product arrive to late')\n",
    "review_2 = NRCLex('The product quality is terrible.')\n",
    "\n",
    "r1 = review_1.top_emotions\n",
    "r2 = review_2.top_emotions\n",
    "\n",
    "print(r2)\n"
   ]
  },
  {
   "cell_type": "markdown",
   "id": "97522113-0b01-4cad-9c16-e70c1e9a21bd",
   "metadata": {},
   "source": [
    "# Análise de sentimentos as reviews do dataset\n",
    "\n",
    "* Import das bibliotecas e do corpora necessário\n",
    "* Definição da **função de tokanização**\n",
    "* Definição da **função de lematização**\n",
    "  - Utiliza a biblioteca ``spacy``\n",
    "  - normaliza as palavras em minúsculo e retira as **stopwords**\n",
    "* Definição da **função de avaliação** texto usando o corpus do NRC com todas as emoções definidas."
   ]
  },
  {
   "cell_type": "code",
   "execution_count": 41,
   "id": "49c23017-ebd9-43d9-a0f5-7d5f16635b63",
   "metadata": {},
   "outputs": [],
   "source": [
    "nlp = spacy.load('en_core_web_md')"
   ]
  },
  {
   "cell_type": "code",
   "execution_count": 42,
   "id": "2d861c34-4fe7-4400-9efb-cc9be38a232d",
   "metadata": {},
   "outputs": [],
   "source": [
    "# Função que faz lematização, tokenização, retira pontuação e stop words, coloca o texto em minusculas\n",
    "\n",
    "def dataPrep(review):\n",
    "    doc = nlp(review)  \n",
    "  #juntar os tokens obtidos na lematização numa só frase \n",
    "  #(token.pos_ == 'ADJ' or token.pos_ == 'VERB')\n",
    "    res = \" \".join([token.lemma_.lower() for token in doc if not token.is_stop and not token.is_punct])   \n",
    "    return res"
   ]
  },
  {
   "cell_type": "code",
   "execution_count": 43,
   "id": "3c2fd11b-bc3d-4157-bae7-029cbddf23b2",
   "metadata": {},
   "outputs": [],
   "source": [
    "## Função que utiliza o NRClex para dar uma lista de sentimentos associados a uma review\n",
    "\n",
    "def sentimentAnalysis(review):\n",
    "    \n",
    "  review = NRCLex(review)\n",
    "\n",
    "    \n",
    "  return dict(sorted(review.affect_frequencies.items(), key=lambda item: item[1], reverse=True))  ## ordenar resultado\n",
    "\n",
    " \n",
    "   "
   ]
  },
  {
   "cell_type": "code",
   "execution_count": 44,
   "id": "14f872d6-20c0-4c9f-9039-035f7d333109",
   "metadata": {},
   "outputs": [
    {
     "name": "stdout",
     "output_type": "stream",
     "text": [
      "not impressed smartphone excited feel disappointed\n"
     ]
    },
    {
     "data": {
      "text/plain": [
       "{'anger': 0.1111111111111111,\n",
       " 'trust': 0.1111111111111111,\n",
       " 'surprise': 0.1111111111111111,\n",
       " 'positive': 0.1111111111111111,\n",
       " 'negative': 0.1111111111111111,\n",
       " 'sadness': 0.1111111111111111,\n",
       " 'disgust': 0.1111111111111111,\n",
       " 'joy': 0.1111111111111111,\n",
       " 'anticipation': 0.1111111111111111,\n",
       " 'fear': 0.0,\n",
       " 'anticip': 0.0}"
      ]
     },
     "execution_count": 44,
     "metadata": {},
     "output_type": "execute_result"
    }
   ],
   "source": [
    "####################################\n",
    "##  Teste das função desenvolvida ##\n",
    "####################################\n",
    "\n",
    "review = 'I wasnt impressed with this smartphone. Was really excited with it and now I feel disappointed '\n",
    "\n",
    "lem = dataPrep(review)\n",
    "print(lem)\n",
    "\n",
    "sentimentAnalysis(lem)"
   ]
  },
  {
   "cell_type": "markdown",
   "id": "99f2f148-c8ce-4040-b1f3-6144e31f5b1b",
   "metadata": {},
   "source": [
    "## Adicionar ao dataset uma nova coluna com a análise de sentimentos"
   ]
  },
  {
   "cell_type": "code",
   "execution_count": 45,
   "id": "4cd316e9-cdcb-4010-b475-b3a235f3c637",
   "metadata": {},
   "outputs": [],
   "source": [
    "\n",
    "## Criar colunas para cada emoção calculada pelo NRC\n",
    "\n",
    "data['classification_NRC'] = \" \"\n"
   ]
  },
  {
   "cell_type": "code",
   "execution_count": 46,
   "id": "e0a6dda8-c8fa-4b23-8597-ab4782ddf65b",
   "metadata": {},
   "outputs": [
    {
     "data": {
      "text/plain": [
       "0"
      ]
     },
     "execution_count": 46,
     "metadata": {},
     "output_type": "execute_result"
    }
   ],
   "source": [
    "len (data[100:200])"
   ]
  },
  {
   "cell_type": "code",
   "execution_count": 48,
   "id": "08e2f4a8-c222-473d-8423-305097321059",
   "metadata": {},
   "outputs": [],
   "source": [
    "## ATUALIZAR O DATASET COM AS EMOÇOES RECEBIDAS PELO NRC \n",
    "## Para cada review identifica-se o conjunto de emoções associadas\n",
    "\n",
    "def datasetUpdate (data):\n",
    "    i = 0\n",
    "    for (ind, row)  in data.iterrows(): \n",
    "        review = row['review_text']\n",
    "\n",
    "        #print(review)\n",
    "        \n",
    "        res = dataPrep(review)\n",
    "\n",
    "        emotions = sentimentAnalysis(res)\n",
    "        \n",
    "        #print(emotions)\n",
    "\n",
    "        for x in emotions:\n",
    "            data.loc[data['review_text'] == review, 'classification_NRC'] = x\n",
    "            break\n",
    "       \n",
    "    return data\n",
    "\n",
    "\n",
    "        \n",
    "\n",
    "\n",
    "\n",
    "        "
   ]
  },
  {
   "cell_type": "code",
   "execution_count": 49,
   "id": "fcff9916",
   "metadata": {},
   "outputs": [],
   "source": [
    "pd.options.mode.chained_assignment = None  # default='warn'\n"
   ]
  },
  {
   "cell_type": "code",
   "execution_count": 50,
   "id": "6d345c6c",
   "metadata": {},
   "outputs": [],
   "source": [
    "## retirar colunas com valores nulos\n",
    "\n",
    "data['review_text'] = data['review_text'].fillna(\" \")"
   ]
  },
  {
   "cell_type": "code",
   "execution_count": 51,
   "id": "428d7b50",
   "metadata": {},
   "outputs": [],
   "source": [
    "data.drop(data.index[100:200], inplace=True)"
   ]
  },
  {
   "cell_type": "code",
   "execution_count": 52,
   "id": "66eb4416",
   "metadata": {},
   "outputs": [
    {
     "data": {
      "text/html": [
       "<div>\n",
       "<style scoped>\n",
       "    .dataframe tbody tr th:only-of-type {\n",
       "        vertical-align: middle;\n",
       "    }\n",
       "\n",
       "    .dataframe tbody tr th {\n",
       "        vertical-align: top;\n",
       "    }\n",
       "\n",
       "    .dataframe thead th {\n",
       "        text-align: right;\n",
       "    }\n",
       "</style>\n",
       "<table border=\"1\" class=\"dataframe\">\n",
       "  <thead>\n",
       "    <tr style=\"text-align: right;\">\n",
       "      <th></th>\n",
       "      <th>review_text</th>\n",
       "      <th>classification_NRC</th>\n",
       "    </tr>\n",
       "  </thead>\n",
       "  <tbody>\n",
       "    <tr>\n",
       "      <th>0</th>\n",
       "      <td>\\n  Very nice product with promt delivary the ...</td>\n",
       "      <td></td>\n",
       "    </tr>\n",
       "    <tr>\n",
       "      <th>1</th>\n",
       "      <td>\\n  Ordered on 26th Sep afternoon and Amazon d...</td>\n",
       "      <td></td>\n",
       "    </tr>\n",
       "    <tr>\n",
       "      <th>2</th>\n",
       "      <td>\\n  Fingerprint Reader is very fast when compa...</td>\n",
       "      <td></td>\n",
       "    </tr>\n",
       "    <tr>\n",
       "      <th>3</th>\n",
       "      <td>\\n  BEST FIRST 5G PHONE UNDER 30000 Rs/- MADE ...</td>\n",
       "      <td></td>\n",
       "    </tr>\n",
       "    <tr>\n",
       "      <th>4</th>\n",
       "      <td>\\n  Overall perfomance of the phone is amazing...</td>\n",
       "      <td></td>\n",
       "    </tr>\n",
       "    <tr>\n",
       "      <th>...</th>\n",
       "      <td>...</td>\n",
       "      <td>...</td>\n",
       "    </tr>\n",
       "    <tr>\n",
       "      <th>95</th>\n",
       "      <td>\\n  Just got it today. No display issues or he...</td>\n",
       "      <td></td>\n",
       "    </tr>\n",
       "    <tr>\n",
       "      <th>96</th>\n",
       "      <td>\\n  I am using my old mobile for long time of ...</td>\n",
       "      <td></td>\n",
       "    </tr>\n",
       "    <tr>\n",
       "      <th>97</th>\n",
       "      <td>\\n   Overall phone is good</td>\n",
       "      <td></td>\n",
       "    </tr>\n",
       "    <tr>\n",
       "      <th>98</th>\n",
       "      <td>\\n  Excellent spec, beautiful design, no major...</td>\n",
       "      <td></td>\n",
       "    </tr>\n",
       "    <tr>\n",
       "      <th>99</th>\n",
       "      <td>\\n  #1. The Color Gray Onyx perfect. OxygenOS ...</td>\n",
       "      <td></td>\n",
       "    </tr>\n",
       "  </tbody>\n",
       "</table>\n",
       "<p>100 rows × 2 columns</p>\n",
       "</div>"
      ],
      "text/plain": [
       "                                          review_text classification_NRC\n",
       "0   \\n  Very nice product with promt delivary the ...                   \n",
       "1   \\n  Ordered on 26th Sep afternoon and Amazon d...                   \n",
       "2   \\n  Fingerprint Reader is very fast when compa...                   \n",
       "3   \\n  BEST FIRST 5G PHONE UNDER 30000 Rs/- MADE ...                   \n",
       "4   \\n  Overall perfomance of the phone is amazing...                   \n",
       "..                                                ...                ...\n",
       "95  \\n  Just got it today. No display issues or he...                   \n",
       "96  \\n  I am using my old mobile for long time of ...                   \n",
       "97                         \\n   Overall phone is good                   \n",
       "98  \\n  Excellent spec, beautiful design, no major...                   \n",
       "99  \\n  #1. The Color Gray Onyx perfect. OxygenOS ...                   \n",
       "\n",
       "[100 rows x 2 columns]"
      ]
     },
     "execution_count": 52,
     "metadata": {},
     "output_type": "execute_result"
    }
   ],
   "source": [
    "data"
   ]
  },
  {
   "cell_type": "code",
   "execution_count": 53,
   "id": "ad115dbb",
   "metadata": {},
   "outputs": [],
   "source": [
    "data = datasetUpdate (data)"
   ]
  },
  {
   "cell_type": "code",
   "execution_count": 54,
   "id": "22f50b51",
   "metadata": {},
   "outputs": [
    {
     "data": {
      "text/html": [
       "<div>\n",
       "<style scoped>\n",
       "    .dataframe tbody tr th:only-of-type {\n",
       "        vertical-align: middle;\n",
       "    }\n",
       "\n",
       "    .dataframe tbody tr th {\n",
       "        vertical-align: top;\n",
       "    }\n",
       "\n",
       "    .dataframe thead th {\n",
       "        text-align: right;\n",
       "    }\n",
       "</style>\n",
       "<table border=\"1\" class=\"dataframe\">\n",
       "  <thead>\n",
       "    <tr style=\"text-align: right;\">\n",
       "      <th></th>\n",
       "      <th>review_text</th>\n",
       "      <th>classification_NRC</th>\n",
       "    </tr>\n",
       "  </thead>\n",
       "  <tbody>\n",
       "    <tr>\n",
       "      <th>0</th>\n",
       "      <td>\\n  Very nice product with promt delivary the ...</td>\n",
       "      <td>positive</td>\n",
       "    </tr>\n",
       "    <tr>\n",
       "      <th>1</th>\n",
       "      <td>\\n  Ordered on 26th Sep afternoon and Amazon d...</td>\n",
       "      <td>positive</td>\n",
       "    </tr>\n",
       "    <tr>\n",
       "      <th>2</th>\n",
       "      <td>\\n  Fingerprint Reader is very fast when compa...</td>\n",
       "      <td>positive</td>\n",
       "    </tr>\n",
       "    <tr>\n",
       "      <th>3</th>\n",
       "      <td>\\n  BEST FIRST 5G PHONE UNDER 30000 Rs/- MADE ...</td>\n",
       "      <td>fear</td>\n",
       "    </tr>\n",
       "    <tr>\n",
       "      <th>4</th>\n",
       "      <td>\\n  Overall perfomance of the phone is amazing...</td>\n",
       "      <td>positive</td>\n",
       "    </tr>\n",
       "    <tr>\n",
       "      <th>...</th>\n",
       "      <td>...</td>\n",
       "      <td>...</td>\n",
       "    </tr>\n",
       "    <tr>\n",
       "      <th>95</th>\n",
       "      <td>\\n  Just got it today. No display issues or he...</td>\n",
       "      <td>anger</td>\n",
       "    </tr>\n",
       "    <tr>\n",
       "      <th>96</th>\n",
       "      <td>\\n  I am using my old mobile for long time of ...</td>\n",
       "      <td>anticipation</td>\n",
       "    </tr>\n",
       "    <tr>\n",
       "      <th>97</th>\n",
       "      <td>\\n   Overall phone is good</td>\n",
       "      <td>trust</td>\n",
       "    </tr>\n",
       "    <tr>\n",
       "      <th>98</th>\n",
       "      <td>\\n  Excellent spec, beautiful design, no major...</td>\n",
       "      <td>positive</td>\n",
       "    </tr>\n",
       "    <tr>\n",
       "      <th>99</th>\n",
       "      <td>\\n  #1. The Color Gray Onyx perfect. OxygenOS ...</td>\n",
       "      <td>trust</td>\n",
       "    </tr>\n",
       "  </tbody>\n",
       "</table>\n",
       "<p>100 rows × 2 columns</p>\n",
       "</div>"
      ],
      "text/plain": [
       "                                          review_text classification_NRC\n",
       "0   \\n  Very nice product with promt delivary the ...           positive\n",
       "1   \\n  Ordered on 26th Sep afternoon and Amazon d...           positive\n",
       "2   \\n  Fingerprint Reader is very fast when compa...           positive\n",
       "3   \\n  BEST FIRST 5G PHONE UNDER 30000 Rs/- MADE ...               fear\n",
       "4   \\n  Overall perfomance of the phone is amazing...           positive\n",
       "..                                                ...                ...\n",
       "95  \\n  Just got it today. No display issues or he...              anger\n",
       "96  \\n  I am using my old mobile for long time of ...       anticipation\n",
       "97                         \\n   Overall phone is good              trust\n",
       "98  \\n  Excellent spec, beautiful design, no major...           positive\n",
       "99  \\n  #1. The Color Gray Onyx perfect. OxygenOS ...              trust\n",
       "\n",
       "[100 rows x 2 columns]"
      ]
     },
     "execution_count": 54,
     "metadata": {},
     "output_type": "execute_result"
    }
   ],
   "source": [
    "data\n"
   ]
  },
  {
   "cell_type": "code",
   "execution_count": 55,
   "id": "0843ce96-2d74-4a69-abb9-578177ca814a",
   "metadata": {},
   "outputs": [],
   "source": [
    "## Guardar o dataset com a classificação das emoçoes num csv.\n",
    "\n",
    "data.to_csv('100_reviews.csv')"
   ]
  },
  {
   "cell_type": "code",
   "execution_count": null,
   "id": "aecddb45-e496-4a31-a474-fafc084254c1",
   "metadata": {},
   "outputs": [],
   "source": []
  }
 ],
 "metadata": {
  "environment": {
   "kernel": "python3",
   "name": "tf2-gpu.2-6.m84",
   "type": "gcloud",
   "uri": "gcr.io/deeplearning-platform-release/tf2-gpu.2-6:m84"
  },
  "kernelspec": {
   "display_name": "Python 3",
   "language": "python",
   "name": "python3"
  },
  "language_info": {
   "codemirror_mode": {
    "name": "ipython",
    "version": 3
   },
   "file_extension": ".py",
   "mimetype": "text/x-python",
   "name": "python",
   "nbconvert_exporter": "python",
   "pygments_lexer": "ipython3",
   "version": "3.10.0"
  }
 },
 "nbformat": 4,
 "nbformat_minor": 5
}
