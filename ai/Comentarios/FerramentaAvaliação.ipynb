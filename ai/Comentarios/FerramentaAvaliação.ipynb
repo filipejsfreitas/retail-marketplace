{
  "nbformat": 4,
  "nbformat_minor": 5,
  "metadata": {
    "kernelspec": {
      "display_name": "Python 3",
      "language": "python",
      "name": "python3"
    },
    "language_info": {
      "codemirror_mode": {
        "name": "ipython",
        "version": 3
      },
      "file_extension": ".py",
      "mimetype": "text/x-python",
      "name": "python",
      "nbconvert_exporter": "python",
      "pygments_lexer": "ipython3",
      "version": "3.6.12"
    },
    "colab": {
      "name": "FerramentaAvaliação.ipynb",
      "provenance": []
    }
  },
  "cells": [
    {
      "cell_type": "code",
      "metadata": {
        "id": "116061ae"
      },
      "source": [
        "import tensorflow as tf\n",
        "from keras.preprocessing.text import Tokenizer\n",
        "from keras.preprocessing.sequence import pad_sequences\n",
        "import numpy as np"
      ],
      "id": "116061ae",
      "execution_count": null,
      "outputs": []
    },
    {
      "cell_type": "code",
      "metadata": {
        "id": "e0990478"
      },
      "source": [
        "json_file = open('model.json', 'r')\n",
        "loaded_model_json = json_file.read()\n",
        "json_file.close()\n",
        "model = tf.keras.models.model_from_json(loaded_model_json)\n",
        "# load weights into new model\n",
        "model.load_weights(\"model.h5\")"
      ],
      "id": "e0990478",
      "execution_count": null,
      "outputs": []
    },
    {
      "cell_type": "code",
      "metadata": {
        "id": "6e6ba3dc"
      },
      "source": [
        "tokenizer = Tokenizer(num_words = 5000)\n",
        "\n"
      ],
      "id": "6e6ba3dc",
      "execution_count": null,
      "outputs": []
    },
    {
      "cell_type": "code",
      "metadata": {
        "id": "6b4329d6",
        "outputId": "40105ec4-1896-4f02-cad5-ec50658e1df8"
      },
      "source": [
        "sentiment = ['Neutral','Negative','Positive']\n",
        "\n",
        "sequence = tokenizer.texts_to_sequences([input_text])\n",
        "test = pad_sequences(sequence, maxlen=200)\n",
        "sentiment[np.around(model.predict(test), decimals=0).argmax(axis=1)[0]]"
      ],
      "id": "6b4329d6",
      "execution_count": null,
      "outputs": [
        {
          "output_type": "execute_result",
          "data": {
            "text/plain": [
              "'Neutral'"
            ]
          },
          "metadata": {
            "tags": []
          },
          "execution_count": 31
        }
      ]
    },
    {
      "cell_type": "code",
      "metadata": {
        "colab": {
          "base_uri": "https://localhost:8080/"
        },
        "id": "NnBn8ozPOHye",
        "outputId": "95723be5-5630-424c-a649-1c9155f5ea20"
      },
      "source": [
        "from google.colab import drive\n",
        "\n",
        "drive.mount('/content/drive')"
      ],
      "id": "NnBn8ozPOHye",
      "execution_count": null,
      "outputs": [
        {
          "output_type": "stream",
          "text": [
            "Drive already mounted at /content/drive; to attempt to forcibly remount, call drive.mount(\"/content/drive\", force_remount=True).\n"
          ],
          "name": "stdout"
        }
      ]
    },
    {
      "cell_type": "code",
      "metadata": {
        "colab": {
          "base_uri": "https://localhost:8080/"
        },
        "id": "p1vAo8cbOQNc",
        "outputId": "15c10e99-32df-4281-d7f2-c947f85bc8a5"
      },
      "source": [
        "\n",
        "model = tf.keras.models.load_model('/content/drive/My Drive/LEI/Models/ltsm')\n",
        "\n"
      ],
      "id": "p1vAo8cbOQNc",
      "execution_count": null,
      "outputs": [
        {
          "output_type": "stream",
          "text": [
            "WARNING:tensorflow:SavedModel saved prior to TF 2.5 detected when loading Keras model. Please ensure that you are saving the model with model.save() or tf.keras.models.save_model(), *NOT* tf.saved_model.save(). To confirm, there should be a file named \"keras_metadata.pb\" in the SavedModel directory.\n"
          ],
          "name": "stdout"
        }
      ]
    },
    {
      "cell_type": "code",
      "metadata": {
        "colab": {
          "base_uri": "https://localhost:8080/"
        },
        "id": "J_G1u-kySFHP",
        "outputId": "4970a5b9-020a-47c1-9dfc-ee824ad18c6b"
      },
      "source": [
        "#data_train = np.loadtxt('/content/drive/My Drive/LEI/data_train.txt', dtype=str)\n",
        "import pandas as pd\n",
        "\n",
        "df = pd.read_csv('/content/drive/My Drive/LEI/data_traint.txt', sep='\\n')\n",
        "\n",
        "data_train = df['juntao irmao'].values.tolist()\n",
        "data_train.append('juntao irmao')\n",
        "\n",
        "#convert list to ndarray of 1D\n",
        "data_train = np.array(data_train)  \n",
        "#data_train = np.array(df)\n",
        "\n",
        "#data_train = data_train.flatten()\n",
        "#np.array(data_train, dtype=np.float)\n",
        "print(data_train.ndim)"
      ],
      "id": "J_G1u-kySFHP",
      "execution_count": null,
      "outputs": [
        {
          "output_type": "stream",
          "text": [
            "1\n"
          ],
          "name": "stdout"
        }
      ]
    },
    {
      "cell_type": "code",
      "metadata": {
        "colab": {
          "base_uri": "https://localhost:8080/"
        },
        "id": "ioNpnzorX9TZ",
        "outputId": "ead11a51-ea08-45bc-d2ea-8a9d8c1c6421"
      },
      "source": [
        "print(data_train)"
      ],
      "id": "ioNpnzorX9TZ",
      "execution_count": null,
      "outputs": [
        {
          "output_type": "stream",
          "text": [
            "['parabens' 'de abril caralho feliz aniversario ted mosby'\n",
            " 'se ele se lembrar liga me senao fodasse que eu tenho sono nao vou estar espera'\n",
            " ...\n",
            " 'volta lingard que eu perdoo facada lingard nao me deixa volta lingard que eu retiro queixa'\n",
            " 'no es la primera vegada ni sera la ultima que es queixa de les actuacions arbitrals del var esta en el seu dret pero algu li hauria de dir que molts tenim vergonya aliena de tenir un entrenador que excusa amb aquestes tonteries hi va molt gran'\n",
            " 'juntao irmao']\n"
          ],
          "name": "stdout"
        }
      ]
    },
    {
      "cell_type": "code",
      "metadata": {
        "colab": {
          "base_uri": "https://localhost:8080/"
        },
        "id": "CWOGRgPXO-Nz",
        "outputId": "31407bb6-3e54-43b0-e05b-a41f825dbd70"
      },
      "source": [
        "tokenizer = Tokenizer(num_words = 5000)\n",
        "\n",
        "sentiment = ['Neutral','Negative','Positive']\n",
        "tokenizer.fit_on_texts(data_train)\n",
        "sequence = tokenizer.texts_to_sequences([\"Estou tao feliz!!!\"])\n",
        "print(sequence)\n",
        "test = pad_sequences(sequence, maxlen = 200)\n",
        "print(sentiment[np.around(model.predict(test), decimals = 0).argmax(axis = 1)[0]])"
      ],
      "id": "CWOGRgPXO-Nz",
      "execution_count": null,
      "outputs": [
        {
          "output_type": "stream",
          "text": [
            "[[99, 81, 47]]\n",
            "Positive\n"
          ],
          "name": "stdout"
        }
      ]
    }
  ]
}