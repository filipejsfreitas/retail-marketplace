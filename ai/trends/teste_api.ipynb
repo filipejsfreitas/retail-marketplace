{
 "cells": [
  {
   "cell_type": "code",
   "execution_count": 1,
   "metadata": {},
   "outputs": [],
   "source": [
    "from pytrends.request import TrendReq\n",
    "import pandas as pd\n",
    "from datetime import datetime\n"
   ]
  },
  {
   "cell_type": "code",
   "execution_count": 2,
   "metadata": {},
   "outputs": [],
   "source": [
    "pytrend = TrendReq()\n"
   ]
  },
  {
   "cell_type": "code",
   "execution_count": 3,
   "metadata": {},
   "outputs": [],
   "source": [
    "\n",
    "\n",
    "# Assuntos trending em Portugal para o dia de hoje\n",
    "def get_trends():\n",
    "    df = pytrend.trending_searches(pn = 'portugal')\n",
    "    trends = df[0].to_list()\n",
    "\n",
    "    return trends"
   ]
  },
  {
   "cell_type": "code",
   "execution_count": 5,
   "metadata": {},
   "outputs": [
    {
     "data": {
      "text/plain": [
       "['Eric Zemmour',\n",
       " 'Manchester United  Crystal Palace',\n",
       " 'Sara Carreira',\n",
       " 'Braga',\n",
       " 'Juventus  Genoa',\n",
       " 'Gil Vicente  Famalicão',\n",
       " 'Gremio',\n",
       " 'Sporting futsal',\n",
       " 'Enzo Fittipaldi',\n",
       " 'Braga FC',\n",
       " 'Eunice munoz',\n",
       " 'Rene Hofer',\n",
       " 'Tottenham  Norwich',\n",
       " 'Campo Maior',\n",
       " 'Spider-Man',\n",
       " 'Herege',\n",
       " 'Santa Clara',\n",
       " 'UFC',\n",
       " 'Chris Cuomo',\n",
       " 'Ricardo Costa']"
      ]
     },
     "execution_count": 5,
     "metadata": {},
     "output_type": "execute_result"
    }
   ],
   "source": [
    "trends = get_trends()\n",
    "trends\n"
   ]
  }
 ],
 "metadata": {
  "interpreter": {
   "hash": "e1e2229a1fa9870ee33783501b0558f0ddbc8a2ab996f1e23e75624c7e4b09f8"
  },
  "kernelspec": {
   "display_name": "Python 3.9.7 64-bit ('base': conda)",
   "language": "python",
   "name": "python3"
  },
  "language_info": {
   "codemirror_mode": {
    "name": "ipython",
    "version": 3
   },
   "file_extension": ".py",
   "mimetype": "text/x-python",
   "name": "python",
   "nbconvert_exporter": "python",
   "pygments_lexer": "ipython3",
   "version": "3.10.0"
  },
  "orig_nbformat": 4
 },
 "nbformat": 4,
 "nbformat_minor": 2
}
